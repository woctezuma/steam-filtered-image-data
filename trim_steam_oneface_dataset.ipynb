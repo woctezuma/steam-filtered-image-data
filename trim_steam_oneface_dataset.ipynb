{
  "nbformat": 4,
  "nbformat_minor": 0,
  "metadata": {
    "colab": {
      "name": "trim_steam_oneface_dataset.ipynb",
      "provenance": [],
      "collapsed_sections": []
    },
    "kernelspec": {
      "name": "python3",
      "display_name": "Python 3"
    }
  },
  "cells": [
    {
      "cell_type": "markdown",
      "metadata": {
        "id": "b3rfHhAaqCJl"
      },
      "source": [
        "# Trim the `Steam-OneFace` dataset\r\n",
        "\r\n",
        "The objective of this notebook is to trim the `Steam-OneFace` dataset based on the intersection of the detection results of:\r\n",
        "-   the `dlib` module,\r\n",
        "-   the `face_alignment` (fa) module,\r\n",
        "-   the `retinaface` (rf) module.\r\n",
        "\r\n",
        "The trimmed datasets are:\r\n",
        "-   `Steam-OneFace-small`:\r\n",
        "    - 993 images\r\n",
        "    - obtained by intersection of fa and rf,\r\n",
        "-   `Steam-OneFace-tiny`:\r\n",
        "    - 168 images\r\n",
        "    - obtained by intersection of all three modules (dlib, fa, rf).\r\n",
        "\r\n",
        "For more information, check:\r\n",
        "-   my Github repository about [`Steam-OneFace`][steam-oneface-section]\r\n",
        "\r\n",
        "[steam-oneface-section]: <https://github.com/woctezuma/steam-filtered-image-data#steam-oneface-dataset>"
      ]
    },
    {
      "cell_type": "markdown",
      "metadata": {
        "id": "5vOXEiinv1pC"
      },
      "source": [
        "## Install requirements"
      ]
    },
    {
      "cell_type": "code",
      "metadata": {
        "id": "Ar4l3_pNv5Th"
      },
      "source": [
        "%pip install Google-Colab-Transfer > /dev/null"
      ],
      "execution_count": 38,
      "outputs": []
    },
    {
      "cell_type": "code",
      "metadata": {
        "colab": {
          "base_uri": "https://localhost:8080/"
        },
        "id": "oB9VX_K7v2t7",
        "outputId": "731af81e-76cc-4164-c66b-4805e622bd9f"
      },
      "source": [
        "import colab_transfer\r\n",
        "\r\n",
        "colab_transfer.mount_google_drive()"
      ],
      "execution_count": 39,
      "outputs": [
        {
          "output_type": "stream",
          "text": [
            "Drive already mounted at /content/drive/; to attempt to forcibly remount, call drive.mount(\"/content/drive/\", force_remount=True).\n"
          ],
          "name": "stdout"
        }
      ]
    },
    {
      "cell_type": "markdown",
      "metadata": {
        "id": "updtBP7Fqc0k"
      },
      "source": [
        "## Load detecton results"
      ]
    },
    {
      "cell_type": "markdown",
      "metadata": {
        "id": "WNFlsQr0qAhi"
      },
      "source": [
        "### With the `dlib` module"
      ]
    },
    {
      "cell_type": "code",
      "metadata": {
        "id": "v6uThVCgpd7g"
      },
      "source": [
        "!wget -q https://raw.githubusercontent.com/woctezuma/steam-face-detection/main/data/app_ids_with_faces_with_dlib.json\r\n",
        "!wget -q https://raw.githubusercontent.com/woctezuma/steam-face-detection/main/data/app_ids_with_faces_with_dlib_resized.json"
      ],
      "execution_count": 40,
      "outputs": []
    },
    {
      "cell_type": "code",
      "metadata": {
        "id": "myUJaMIXpfIk"
      },
      "source": [
        "import json\r\n",
        "\r\n",
        "# AppIDs for which AT LEAST ONE face was detected by dlib on ORIGINAL images:\r\n",
        "with open('app_ids_with_faces_with_dlib.json', 'r') as f:\r\n",
        "  dlib_original = json.load(f)\r\n",
        "\r\n",
        "# AppIDs for which AT LEAST ONE face was detected by dlib on RESIZED images:\r\n",
        "with open('app_ids_with_faces_with_dlib_resized.json', 'r') as f:\r\n",
        "  dlib_resized = json.load(f)\r\n",
        "\r\n",
        "dlib_detections = set([\r\n",
        "      app_id\r\n",
        "      for app_id in set(dlib_original).intersection(dlib_resized)\r\n",
        "      if dlib_original[app_id] == 1 and dlib_resized[app_id] == 1\r\n",
        "])"
      ],
      "execution_count": 41,
      "outputs": []
    },
    {
      "cell_type": "code",
      "metadata": {
        "colab": {
          "base_uri": "https://localhost:8080/"
        },
        "id": "rEf60DbHrQvg",
        "outputId": "7294618b-c634-4936-d9dc-39c9ae050ca8"
      },
      "source": [
        "print(len(dlib_detections))"
      ],
      "execution_count": 42,
      "outputs": [
        {
          "output_type": "stream",
          "text": [
            "345\n"
          ],
          "name": "stdout"
        }
      ]
    },
    {
      "cell_type": "markdown",
      "metadata": {
        "id": "zb-Tb6Rup461"
      },
      "source": [
        "### With the `face_alignment` module"
      ]
    },
    {
      "cell_type": "code",
      "metadata": {
        "colab": {
          "base_uri": "https://localhost:8080/"
        },
        "id": "2bjHBAiNpTXY",
        "outputId": "10b98c8c-7569-4b77-a83e-57655540feb2"
      },
      "source": [
        "!gdown --id 1YWoC6Ux2OnzZcc3EyRGqTnqKUdxDlfDM"
      ],
      "execution_count": 43,
      "outputs": [
        {
          "output_type": "stream",
          "text": [
            "Downloading...\n",
            "From: https://drive.google.com/uc?id=1YWoC6Ux2OnzZcc3EyRGqTnqKUdxDlfDM\n",
            "To: /content/app_ids.txt\n",
            "\r  0% 0.00/12.7k [00:00<?, ?B/s]\r100% 12.7k/12.7k [00:00<00:00, 19.7MB/s]\n"
          ],
          "name": "stdout"
        }
      ]
    },
    {
      "cell_type": "code",
      "metadata": {
        "id": "G9rgFQ_Mpcuu"
      },
      "source": [
        "# AppIDs for which EXACTLY ONE face was detected by face_alignment (fa) on both:\r\n",
        "# - original images,\r\n",
        "# - resized images,\r\n",
        "# and for which duplicates have been removed.\r\n",
        "with open('app_ids.txt', 'r') as f:\r\n",
        "  fa_detections = [i.strip() for i in f.readlines()]"
      ],
      "execution_count": 44,
      "outputs": []
    },
    {
      "cell_type": "code",
      "metadata": {
        "colab": {
          "base_uri": "https://localhost:8080/"
        },
        "id": "29gZl-0FrWBg",
        "outputId": "740fa310-d8fc-431c-d2b5-cd123c1cc8fb"
      },
      "source": [
        "print(len(fa_detections))"
      ],
      "execution_count": 45,
      "outputs": [
        {
          "output_type": "stream",
          "text": [
            "1688\n"
          ],
          "name": "stdout"
        }
      ]
    },
    {
      "cell_type": "markdown",
      "metadata": {
        "id": "9r-Hc_Whp3N2"
      },
      "source": [
        "### With the `retinaface` module"
      ]
    },
    {
      "cell_type": "code",
      "metadata": {
        "colab": {
          "base_uri": "https://localhost:8080/"
        },
        "id": "JcJGICjPpiRE",
        "outputId": "c849d424-c50f-4064-d0ea-328317ce3092"
      },
      "source": [
        "!gdown --id 1-0jW1kCBx_jf1oAAdKCvu8iA_Z2PmZIW"
      ],
      "execution_count": 46,
      "outputs": [
        {
          "output_type": "stream",
          "text": [
            "Downloading...\n",
            "From: https://drive.google.com/uc?id=1-0jW1kCBx_jf1oAAdKCvu8iA_Z2PmZIW\n",
            "To: /content/app_ids_with_retinaface.txt\n",
            "\r  0% 0.00/18.7k [00:00<?, ?B/s]\r100% 18.7k/18.7k [00:00<00:00, 15.6MB/s]\n"
          ],
          "name": "stdout"
        }
      ]
    },
    {
      "cell_type": "code",
      "metadata": {
        "id": "FC_iIConpkfC"
      },
      "source": [
        "# AppIDs for which EXACTLY ONE face was detected by retinaface (rf) on both:\r\n",
        "# - original images,\r\n",
        "# - resized images,\r\n",
        "# and for which duplicates have been removed.\r\n",
        "with open('app_ids_with_retinaface.txt', 'r') as f:\r\n",
        "  rf_detections = [i.strip() for i in f.readlines()]"
      ],
      "execution_count": 47,
      "outputs": []
    },
    {
      "cell_type": "code",
      "metadata": {
        "colab": {
          "base_uri": "https://localhost:8080/"
        },
        "id": "1Z0nfZFRrZIH",
        "outputId": "dc0140ec-6762-4b6c-d083-52d9a028c758"
      },
      "source": [
        "print(len(rf_detections))"
      ],
      "execution_count": 48,
      "outputs": [
        {
          "output_type": "stream",
          "text": [
            "2472\n"
          ],
          "name": "stdout"
        }
      ]
    },
    {
      "cell_type": "markdown",
      "metadata": {
        "id": "ZYViYUdPtJxl"
      },
      "source": [
        "## Load image data"
      ]
    },
    {
      "cell_type": "markdown",
      "metadata": {
        "id": "jC3IVbtntQGG"
      },
      "source": [
        "### High-resolution images (300x450)"
      ]
    },
    {
      "cell_type": "code",
      "metadata": {
        "colab": {
          "base_uri": "https://localhost:8080/"
        },
        "id": "JXpCUX_ItKkW",
        "outputId": "557499fc-1655-4316-ebb9-5a18e0ffe29f"
      },
      "source": [
        "import glob\r\n",
        "from pathlib import Path\r\n",
        "\r\n",
        "archive_name = 'filtered_banners.tar.gz'\r\n",
        "image_dir_hr = 'data/original_vertical_steam_banners/'\r\n",
        "\r\n",
        "if not Path(archive_name).exists():\r\n",
        "  !gdown --id 1etzhe-EYyT86DYK8QbEHoYoAeU1nqRWy\r\n",
        "  !tar -xf {archive_name}\r\n",
        "\r\n",
        "file_names = glob.glob(image_dir_hr + '*.jpg')\r\n",
        "print('#images = {}'.format(len(file_names)))  "
      ],
      "execution_count": 49,
      "outputs": [
        {
          "output_type": "stream",
          "text": [
            "Downloading...\n",
            "From: https://drive.google.com/uc?id=1etzhe-EYyT86DYK8QbEHoYoAeU1nqRWy\n",
            "To: /content/filtered_banners.tar.gz\n",
            "948MB [00:04, 213MB/s]\n",
            "#images = 17492\n"
          ],
          "name": "stdout"
        }
      ]
    },
    {
      "cell_type": "markdown",
      "metadata": {
        "id": "yol-rURItSDX"
      },
      "source": [
        "### Low-resolution images (256x256)"
      ]
    },
    {
      "cell_type": "code",
      "metadata": {
        "colab": {
          "base_uri": "https://localhost:8080/"
        },
        "id": "1YmeGGk2tMt9",
        "outputId": "5c97579c-1d43-451a-a010-7958b69e11c9"
      },
      "source": [
        "import glob\r\n",
        "from pathlib import Path\r\n",
        "\r\n",
        "archive_name = 'resized_banners.tar.gz'\r\n",
        "image_dir_lr = 'data/resized_vertical_steam_banners/'\r\n",
        "\r\n",
        "if not Path(archive_name).exists():\r\n",
        "  !gdown --id 1-7ukPUIZKWPyg-Lcj9b59Rr3rSJY8SuH\r\n",
        "  !tar -xf {archive_name}\r\n",
        "\r\n",
        "file_names = glob.glob(image_dir_lr + '*.jpg')\r\n",
        "print('#images = {}'.format(len(file_names)))  "
      ],
      "execution_count": 50,
      "outputs": [
        {
          "output_type": "stream",
          "text": [
            "Downloading...\n",
            "From: https://drive.google.com/uc?id=1-7ukPUIZKWPyg-Lcj9b59Rr3rSJY8SuH\n",
            "To: /content/resized_banners.tar.gz\n",
            "522MB [00:06, 51.2MB/s]\n",
            "#images = 17492\n"
          ],
          "name": "stdout"
        }
      ]
    },
    {
      "cell_type": "markdown",
      "metadata": {
        "id": "SmbvYXcVtokd"
      },
      "source": [
        "## Boilerplate functions"
      ]
    },
    {
      "cell_type": "code",
      "metadata": {
        "id": "BwFeOb65ty3I"
      },
      "source": [
        "from pathlib import Path\r\n",
        "\r\n",
        "def get_input_folder(resolution='hr'):\r\n",
        "  if resolution == 'hr':\r\n",
        "    input_folder = image_dir_hr\r\n",
        "  else:\r\n",
        "    input_folder = image_dir_lr\r\n",
        "\r\n",
        "  return input_folder\r\n",
        "\r\n",
        "def get_output_folder(resolution='hr', dataset_suffixe=''):\r\n",
        "  output_folder = 'steam-oneface{}-{}/'.format(dataset_suffixe, resolution)\r\n",
        "  Path(output_folder).mkdir(exist_ok=True)\r\n",
        "\r\n",
        "  return output_folder\r\n",
        "\r\n",
        "def get_output_archive(output_folder):\r\n",
        "  archive_name = output_folder.strip('/') + '.tar.gz'\r\n",
        "\r\n",
        "  return archive_name"
      ],
      "execution_count": 51,
      "outputs": []
    },
    {
      "cell_type": "code",
      "metadata": {
        "id": "xFalEXEpvLfJ"
      },
      "source": [
        "import shutil\r\n",
        "\r\n",
        "def copy_files(filtered_app_ids, \r\n",
        "               dataset_suffixe):\r\n",
        "  \r\n",
        "  for resolution in ['hr', 'lr']:\r\n",
        "    input_folder = get_input_folder(resolution)\r\n",
        "    output_folder = get_output_folder(resolution, \r\n",
        "                                      dataset_suffixe=dataset_suffixe)\r\n",
        "\r\n",
        "    for app_id in filtered_app_ids:\r\n",
        "      fname = str(app_id) + '.jpg'\r\n",
        "      shutil.copyfile(input_folder + fname, \r\n",
        "                      output_folder + fname)\r\n",
        "\r\n",
        "  return\r\n",
        "\r\n",
        "def archive_folder(dataset_suffixe):\r\n",
        "\r\n",
        "  for resolution in ['hr', 'lr']:\r\n",
        "    output_folder = get_output_folder(resolution, \r\n",
        "                                      dataset_suffixe=dataset_suffixe)\r\n",
        "    archive_name = get_output_archive(output_folder=output_folder)\r\n",
        "    \r\n",
        "    !du -sh {output_folder}\r\n",
        "    !tar -cf {archive_name} {output_folder}\r\n",
        "    !du -sh {archive_name}\r\n",
        "\r\n",
        "  return\r\n",
        "\r\n",
        "def export_archived_folder(dataset_suffixe):\r\n",
        "\r\n",
        "  for resolution in ['hr', 'lr']:\r\n",
        "    output_folder = get_output_folder(resolution, \r\n",
        "                                      dataset_suffixe=dataset_suffixe)\r\n",
        "    archive_name = get_output_archive(output_folder=output_folder)\r\n",
        "    \r\n",
        "    colab_transfer.copy_file(file_name=archive_name,\r\n",
        "                             source = colab_transfer.get_path_to_home_of_local_machine(),\r\n",
        "                             destination = colab_transfer.get_path_to_home_of_google_drive())\r\n",
        "  return  "
      ],
      "execution_count": 52,
      "outputs": []
    },
    {
      "cell_type": "markdown",
      "metadata": {
        "id": "uCF3SRLiqajo"
      },
      "source": [
        "## Build the `Steam-OneFace-small` dataset"
      ]
    },
    {
      "cell_type": "code",
      "metadata": {
        "colab": {
          "base_uri": "https://localhost:8080/"
        },
        "id": "LiNe4CJupmbc",
        "outputId": "0111cbce-e9a1-4f94-8ac1-af33ba42d2ce"
      },
      "source": [
        "steam_oneface_small = set(rf_detections).intersection(fa_detections)\r\n",
        "\r\n",
        "print(len(steam_oneface_small))"
      ],
      "execution_count": 53,
      "outputs": [
        {
          "output_type": "stream",
          "text": [
            "993\n"
          ],
          "name": "stdout"
        }
      ]
    },
    {
      "cell_type": "code",
      "metadata": {
        "colab": {
          "base_uri": "https://localhost:8080/"
        },
        "id": "qKnRtL5OvFdE",
        "outputId": "55f75b24-89c5-4b50-ce14-6d35d5f1047a"
      },
      "source": [
        "filtered_app_ids = steam_oneface_small\r\n",
        "dataset_suffixe = '-small'\r\n",
        "\r\n",
        "copy_files(filtered_app_ids = filtered_app_ids,\r\n",
        "           dataset_suffixe = dataset_suffixe)\r\n",
        "\r\n",
        "archive_folder(dataset_suffixe = dataset_suffixe)\r\n",
        "\r\n",
        "export_archived_folder(dataset_suffixe = dataset_suffixe)"
      ],
      "execution_count": 54,
      "outputs": [
        {
          "output_type": "stream",
          "text": [
            "54M\tsteam-oneface-small-hr/\n",
            "53M\tsteam-oneface-small-hr.tar.gz\n",
            "31M\tsteam-oneface-small-lr/\n",
            "29M\tsteam-oneface-small-lr.tar.gz\n",
            "Copying /content/steam-oneface-small-hr.tar.gz to /content/drive/My Drive/steam-oneface-small-hr.tar.gz\n",
            "Copying /content/steam-oneface-small-lr.tar.gz to /content/drive/My Drive/steam-oneface-small-lr.tar.gz\n"
          ],
          "name": "stdout"
        }
      ]
    },
    {
      "cell_type": "code",
      "metadata": {
        "colab": {
          "base_uri": "https://localhost:8080/"
        },
        "id": "g0cNamdGz7KB",
        "outputId": "c00159f1-364e-492c-e5db-bc454ab649eb"
      },
      "source": [
        "!ls steam-oneface-small-hr/*.jpg | wc -l\r\n",
        "!ls steam-oneface-small-lr/*.jpg | wc -l"
      ],
      "execution_count": 60,
      "outputs": [
        {
          "output_type": "stream",
          "text": [
            "993\n",
            "993\n"
          ],
          "name": "stdout"
        }
      ]
    },
    {
      "cell_type": "markdown",
      "metadata": {
        "id": "TW9lhgoFsTGb"
      },
      "source": [
        "## Build the `Steam-OneFace-tiny` dataset"
      ]
    },
    {
      "cell_type": "code",
      "metadata": {
        "colab": {
          "base_uri": "https://localhost:8080/"
        },
        "id": "JtIsSryopnqn",
        "outputId": "ab4146a4-c9b6-4fff-b5a2-4fad31c359f0"
      },
      "source": [
        "steam_oneface_tiny = set(steam_oneface_small).intersection(dlib_detections)\r\n",
        "\r\n",
        "print(len(steam_oneface_tiny))"
      ],
      "execution_count": 55,
      "outputs": [
        {
          "output_type": "stream",
          "text": [
            "168\n"
          ],
          "name": "stdout"
        }
      ]
    },
    {
      "cell_type": "code",
      "metadata": {
        "colab": {
          "base_uri": "https://localhost:8080/"
        },
        "id": "AQ4TXNyPvrgA",
        "outputId": "2a780065-c2d5-437f-82b7-863cc558b15b"
      },
      "source": [
        "filtered_app_ids = steam_oneface_tiny\r\n",
        "dataset_suffixe = '-tiny'\r\n",
        "\r\n",
        "copy_files(filtered_app_ids = filtered_app_ids,\r\n",
        "           dataset_suffixe = dataset_suffixe)\r\n",
        "\r\n",
        "archive_folder(dataset_suffixe = dataset_suffixe)\r\n",
        "\r\n",
        "export_archived_folder(dataset_suffixe = dataset_suffixe)"
      ],
      "execution_count": 56,
      "outputs": [
        {
          "output_type": "stream",
          "text": [
            "8.8M\tsteam-oneface-tiny-hr/\n",
            "8.6M\tsteam-oneface-tiny-hr.tar.gz\n",
            "5.0M\tsteam-oneface-tiny-lr/\n",
            "4.8M\tsteam-oneface-tiny-lr.tar.gz\n",
            "Copying /content/steam-oneface-tiny-hr.tar.gz to /content/drive/My Drive/steam-oneface-tiny-hr.tar.gz\n",
            "Copying /content/steam-oneface-tiny-lr.tar.gz to /content/drive/My Drive/steam-oneface-tiny-lr.tar.gz\n"
          ],
          "name": "stdout"
        }
      ]
    },
    {
      "cell_type": "code",
      "metadata": {
        "colab": {
          "base_uri": "https://localhost:8080/"
        },
        "id": "TSP7K8dmzzIE",
        "outputId": "23a50336-c3dc-427a-e073-95e4aed8584f"
      },
      "source": [
        "!ls steam-oneface-tiny-hr/*.jpg | wc -l\r\n",
        "!ls steam-oneface-tiny-lr/*.jpg | wc -l"
      ],
      "execution_count": 59,
      "outputs": [
        {
          "output_type": "stream",
          "text": [
            "168\n",
            "168\n"
          ],
          "name": "stdout"
        }
      ]
    }
  ]
}